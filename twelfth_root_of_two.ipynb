{
 "cells": [
  {
   "cell_type": "code",
   "execution_count": 1,
   "metadata": {},
   "outputs": [
    {
     "name": "stdout",
     "output_type": "stream",
     "text": [
      "[1, 16/15, 9/8, 6/5, 5/4, 4/3, 17/12, 3/2, 8/5, 5/3, 16/9, 15/8]\n"
     ]
    }
   ],
   "source": [
    "def dist(k1,k2):\n",
    "    q = getRational(k2-k1)\n",
    "    a,b = q.numerator(),q.denominator()\n",
    "    return sqrt(2*(1-gcd(a,b)^2/(a*b)))\n",
    "\n",
    "def kern(k1,k2):\n",
    "    q = getRational(k2-k1)\n",
    "    a,b = q.numerator(),q.denominator()\n",
    "    return gcd(a,b)^2/(a*b)\n",
    "\n",
    "def getRational(k):\n",
    "    alpha = 2**(1/12.0)\n",
    "    x = RDF(alpha**k).n(50)\n",
    "    return x.nearby_rational(max_error=0.01*x)\n",
    "\n",
    "alpha = (2**(1/12.0))\n",
    "qq=[RDF(alpha**k).n(50).nearby_rational(max_error=0.01*RDF(alpha**k).n(50)) for k in range(12)]\n",
    "\n",
    "print(qq)\n",
    "M = matrix([[kern(k1,k2) for k1 in range(88)] for k2 in range(88)])\n",
    "#print(M.str())\n",
    "#print(M.is_positive_definite())\n",
    "\n",
    "Ch = M.cholesky().rows()\n",
    "\n"
   ]
  },
  {
   "cell_type": "code",
   "execution_count": 2,
   "metadata": {},
   "outputs": [],
   "source": [
    "def parseMidi(fp,part=0):\n",
    "    import os\n",
    "    from music21 import converter\n",
    "    print(fp)\n",
    "    score = converter.parse(fp,quantizePost=True)\n",
    "    #print(score.elements[0].notesAndRests)\n",
    "    #print([e.partAbbreviation for e in score.elements][0])\n",
    "    from music21 import chord\n",
    "    durs = []\n",
    "    ll0 = []\n",
    "    for p in score.elements[part].notesAndRests:\n",
    "        #print(p)\n",
    "        if type(p)==chord.Chord:\n",
    "            pitches = [e.pitch.midi-21 for e in p]\n",
    "            dur = float(p.duration.quarterLength)\n",
    "            #print(pitches)\n",
    "            ll0.append(pitches)\n",
    "            durs.append(dur)\n",
    "        elif (p.name==\"rest\"):\n",
    "            pass #ll0.append(0)\n",
    "        else:   \n",
    "            pitches = [p.pitch.midi-21]\n",
    "            dur = float(p.duration.quarterLength)\n",
    "            ll0.append(pitches)\n",
    "            durs.append(dur)\n",
    "            #print(p.name,p.octave,p.duration.quarterLength)\n",
    "    #print(dir(score)) \n",
    "    #print(ll0)\n",
    "    #print(durs)\n",
    "    return ll0,durs"
   ]
  },
  {
   "cell_type": "code",
   "execution_count": 3,
   "metadata": {},
   "outputs": [],
   "source": [
    "def getSingularValuesFromMidi(fp,part=0):\n",
    "    import numpy as np\n",
    "    from scipy import linalg\n",
    "    ll0,durs = parseMidi(fp,part)\n",
    "    #print(ll0)\n",
    "    if len(ll0)==0:\n",
    "        return None\n",
    "    #print(ll0)\n",
    "    print(fp,len(ll0),ll0[0:10],len(durs),durs[0:10])\n",
    "    Ml = np.array([mean([vector([float(durs[k])*float(x) for x in Ch[kk]]) for kk in ll0[k]]) for k in range(len(ll0))])\n",
    "    #Ml = np.array([mean([vector([float(x) for x in Ch[kk]]) for kk in ll0[k]]) for k in range(len(ll0))])\n",
    "    U,s,V = linalg.svd(Ml,full_matrices=False)\n",
    "    return Ml,U,s,V"
   ]
  },
  {
   "cell_type": "code",
   "execution_count": null,
   "metadata": {},
   "outputs": [],
   "source": [
    "import os\n",
    "\n",
    "mpath = \"./good_midis\"\n",
    "\n",
    "midis = []\n",
    "fns = os.listdir(mpath)\n",
    "for fn in fns:\n",
    "    midis.append(os.path.join(mpath,fn))\n",
    "\n",
    "print(midis)        \n",
    "\n",
    "ds = []\n",
    "for m in midis:\n",
    "    usv0 = getSingularValuesFromMidi(m,0)\n",
    "    usv1 = getSingularValuesFromMidi(m,1)\n",
    "    if not (usv0 is None ):\n",
    "        ds.append((m,(usv0,usv1)))\n",
    "\n",
    "ds = dict(ds)\n",
    "#print(ds)"
   ]
  },
  {
   "cell_type": "code",
   "execution_count": 181,
   "metadata": {},
   "outputs": [
    {
     "name": "stdout",
     "output_type": "stream",
     "text": [
      "[1/256, 1/128, 1/64, 1/32, 1/16, 1/8, 1/4, 1/2, 1, 2, 4, 8]\n",
      "12\n"
     ]
    }
   ],
   "source": [
    "durationslist = [[sum([(2**(n-i)) for i in range(d+1)]) for n in range(-8,3+1)] for d in range(1)]\n",
    "notevalues = []\n",
    "for i in range(len(durationslist)):\n",
    "    notevalues.extend(durationslist[i])\n",
    "    \n",
    "notevalues = sorted(notevalues)    \n",
    "print(notevalues)\n",
    "print(len(notevalues))\n",
    "\n",
    "def findNearestDuration(duration):\n",
    "    return sorted([(abs(duration-nv),nv) for nv in notevalues])[0][1]"
   ]
  },
  {
   "cell_type": "code",
   "execution_count": 196,
   "metadata": {},
   "outputs": [],
   "source": [
    "\n",
    "def writePitches(k0,k1,pitches,durations):\n",
    "    from midiutil import MIDIFile\n",
    "\n",
    "    track    = 0\n",
    "    channel  = 0\n",
    "    time     = 0   # In beats\n",
    "    duration = 1   # In beats\n",
    "    tempo    = 82 # In BPM\n",
    "    volume   = 116 # 0-127, as per the MIDI standard\n",
    "\n",
    "    ni = 2\n",
    "    MyMIDI = MIDIFile(ni,adjust_origin=False) # One track, defaults to format 1 (tempo track\n",
    "                     # automatically created)\n",
    "    MyMIDI.addTempo(track,time, tempo)\n",
    "\n",
    "\n",
    "    for k in range(2):\n",
    "        MyMIDI.addProgramChange(k,k,0,0)\n",
    "\n",
    "\n",
    "    times = [0,0]\n",
    "    for k in xrange(len(pitches)):    \n",
    "        channel = 0\n",
    "        track = 0\n",
    "        for i in range(len(pitches[k])):\n",
    "            #pitch = degrees[0]\n",
    "            track = k \n",
    "            channel = k\n",
    "            pitch = pitches[k][i]\n",
    "            duration = findNearestDuration(durations[k][i]*1.0)\n",
    "            #print(k,pitch,times[k],duration,100)\n",
    "            if pitch != -1: #rest\n",
    "                MyMIDI.addNote(k, channel, pitch, times[k] , duration, 100)#*(ni-k+10.0)/(ni+10.0))\n",
    "            times[k] += duration*1.0    \n",
    "       \n",
    "    with open(\"./mix/mix_\"+k0.split(\"/\")[-1]+\"_vs_\"+k1.split(\"/\")[-1]+\".mid\", \"wb\") as output_file:\n",
    "        MyMIDI.writeFile(output_file)\n",
    "    print(\"written\")    "
   ]
  },
  {
   "cell_type": "code",
   "execution_count": 197,
   "metadata": {},
   "outputs": [],
   "source": [
    "from sklearn.neighbors import NearestNeighbors\n",
    "import numpy as np\n",
    "from scipy.linalg import inv,pinv2,sqrtm,expm,logm, block_diag\n",
    "\n",
    "nbrs = NearestNeighbors(n_neighbors=1, algorithm='ball_tree').fit(Ch)\n",
    "\n",
    "def findBestMatch(nbrs,new_row):\n",
    "    distances,indices = nbrs.kneighbors([np.array(new_row)])\n",
    "    return indices[0][0]\n",
    "\n",
    "def geometricMeanMatrix(A,B):\n",
    "    return np.dot(A,sqrtm(np.dot(inv(A),B)))\n",
    "\n",
    "def mixMatrix(M0,M1):\n",
    "    M01 = np.vstack((M0,M1))\n",
    "    M10 = np.vstack((M1,M0))\n",
    "    \n",
    "    U01,S01,V01 = sc.linalg.svd(M01,full_matrices=True)\n",
    "    U10,S10,V10 = sc.linalg.svd(M10,full_matrices=True)                \n",
    "    \n",
    "    sigma = np.zeros((U01.shape[0],V01.shape[0]))\n",
    "    for i in range(min(U01.shape[0],V01.shape[0])):\n",
    "        sigma[i, i] = np.sqrt(S01[i]*S10[i])\n",
    "\n",
    "    V = geometricMeanMatrix(V01,V10)\n",
    "    U = geometricMeanMatrix(U01,U10)\n",
    "\n",
    "    return np.dot(np.dot(U,sigma),V)\n",
    "    \n",
    "    \n",
    "\n",
    "def getPitchesDurationsForPart(k0,k1,ds,part):\n",
    "    M0,U0,S0,V0 = ds[k0][part]\n",
    "    M1,U1,S1,V1 = ds[k1][part]\n",
    "    M01 = matrix(np.vstack((M0,M1)))\n",
    "    print(matrix(M0).rank())\n",
    "    print(matrix(M1).rank())\n",
    "    print(M01.rank())\n",
    "    new = matrix(mixMatrix(M0,M1)).rows()\n",
    "    pitches = []\n",
    "    durations = []\n",
    "    for v in new:\n",
    "        if v.norm()<0.00001:\n",
    "            pitch,duration = -1,1/4\n",
    "        else:    \n",
    "            pitch,duration = findBestMatch(nbrs,v/v.norm())+21,v.norm()\n",
    "        #duration = findNearestDuration(duration)\n",
    "        pitches.append(pitch)\n",
    "        durations.append(duration)\n",
    "        #print(pitch,duration)\n",
    "    return pitches,durations\n",
    "\n",
    "\n"
   ]
  },
  {
   "cell_type": "code",
   "execution_count": null,
   "metadata": {},
   "outputs": [],
   "source": [
    "print(ds.keys())\n",
    "for k0 in ds.keys():\n",
    "    for k1 in ds.keys():\n",
    "        if k0!=k1:\n",
    "            print(k0)\n",
    "            print(k1)\n",
    "            pitches0, durations0 = getPitchesDurationsForPart(k0,k1,ds,0)\n",
    "            pitches = [pitches0]\n",
    "            durations = [durations0]\n",
    "            writePitches(k0,k1,pitches,durations)"
   ]
  },
  {
   "cell_type": "code",
   "execution_count": 93,
   "metadata": {},
   "outputs": [
    {
     "name": "stdout",
     "output_type": "stream",
     "text": [
      "<type 'module'>\n"
     ]
    }
   ],
   "source": []
  },
  {
   "cell_type": "code",
   "execution_count": null,
   "metadata": {},
   "outputs": [],
   "source": []
  }
 ],
 "metadata": {
  "kernelspec": {
   "display_name": "SageMath 7.4",
   "language": "",
   "name": "sagemath"
  }
 },
 "nbformat": 4,
 "nbformat_minor": 4
}
